{
 "cells": [
  {
   "cell_type": "code",
   "execution_count": 1,
   "metadata": {
    "collapsed": true,
    "ExecuteTime": {
     "end_time": "2024-01-19T14:44:23.830909200Z",
     "start_time": "2024-01-19T14:44:23.383958100Z"
    }
   },
   "outputs": [],
   "source": [
    "import numpy as np\n",
    "import pandas as pd"
   ]
  },
  {
   "cell_type": "code",
   "execution_count": 4,
   "outputs": [
    {
     "name": "stdout",
     "output_type": "stream",
     "text": [
      "            name    speed  Le  sor  match\n",
      "0          AES加密   500.00   1    0      1\n",
      "1          DES加密    60.00   2    0      2\n",
      "2     RSA-1024加密     5.00   3    0      3\n",
      "3     RSA-2048加密     1.00   4    0      4\n",
      "4     RSA-4096加密     0.20   4    0      5\n",
      "5          AES解密   500.00   1    1      1\n",
      "6          DES解密    60.00   1    1      2\n",
      "7     RSA-1024解密     1.00   3    1      3\n",
      "8     RSA-2048解密     0.20   4    1      4\n",
      "9     RSA-4096解密     0.05   4    1      5\n",
      "10         流量过滤1  1000.00   1    1      6\n",
      "11         流量过滤2   500.00   3    1      7\n",
      "12  RSA-1024数字签名     1.00   2    0      8\n",
      "13  RSA-1048数字签名     0.20   3    0      9\n",
      "14  RSA-4096数字签名     0.05   4    0     10\n",
      "15    RSA-1024认证     5.00   2    1      8\n",
      "16    RSA-1048认证     1.00   3    1      9\n",
      "17    RSA-4096认证     0.20   4    1     10\n"
     ]
    }
   ],
   "source": [
    "vnf_data=pd.read_excel(\"data/scene1/vnf.xlsx\")\n",
    "print(vnf_data)"
   ],
   "metadata": {
    "collapsed": false,
    "ExecuteTime": {
     "end_time": "2024-01-19T15:01:16.382620600Z",
     "start_time": "2024-01-19T15:01:14.886908300Z"
    }
   }
  },
  {
   "cell_type": "code",
   "execution_count": null,
   "outputs": [],
   "source": [],
   "metadata": {
    "collapsed": false
   }
  }
 ],
 "metadata": {
  "kernelspec": {
   "display_name": "Python 3",
   "language": "python",
   "name": "python3"
  },
  "language_info": {
   "codemirror_mode": {
    "name": "ipython",
    "version": 2
   },
   "file_extension": ".py",
   "mimetype": "text/x-python",
   "name": "python",
   "nbconvert_exporter": "python",
   "pygments_lexer": "ipython2",
   "version": "2.7.6"
  }
 },
 "nbformat": 4,
 "nbformat_minor": 0
}
