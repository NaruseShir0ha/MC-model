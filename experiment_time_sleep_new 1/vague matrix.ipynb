{
 "cells": [
  {
   "cell_type": "code",
   "execution_count": 1,
   "metadata": {
    "collapsed": true,
    "ExecuteTime": {
     "end_time": "2023-11-10T09:17:59.458771500Z",
     "start_time": "2023-11-10T09:17:50.558232600Z"
    }
   },
   "outputs": [],
   "source": [
    "import numpy as np\n",
    "import pandas as pd"
   ]
  },
  {
   "cell_type": "code",
   "execution_count": 4,
   "outputs": [
    {
     "name": "stdout",
     "output_type": "stream",
     "text": [
      "[[0.5 0.4]\n",
      " [0.6 0.5]]\n"
     ]
    }
   ],
   "source": [
    "#将模糊判别矩阵转化为模糊一致矩阵的函数\n",
    "def transform(R):\n",
    "    #将R的每一行求和\n",
    "    sum_R=np.sum(R,axis=1)\n",
    "    #R的维度\n",
    "    dim_R=R.shape[0]\n",
    "    for i in range(dim_R):\n",
    "        for j in range(dim_R):\n",
    "            R[i][j]=(sum_R[i]-sum_R[j])/(2*dim_R)+0.5\n",
    "    return R"
   ],
   "metadata": {
    "collapsed": false,
    "ExecuteTime": {
     "end_time": "2023-11-10T09:24:00.953900100Z",
     "start_time": "2023-11-10T09:24:00.947912900Z"
    }
   }
  },
  {
   "cell_type": "code",
   "execution_count": 9,
   "outputs": [],
   "source": [
    "def check(R):\n",
    "    #R的维度\n",
    "    dim_R=R.shape[0]\n",
    "    for i in range(dim_R):\n",
    "        for j in range(dim_R):\n",
    "            if R[i][j]+R[j][i]!=1:\n",
    "                return False\n",
    "    return True"
   ],
   "metadata": {
    "collapsed": false,
    "ExecuteTime": {
     "end_time": "2023-11-10T09:34:54.740129500Z",
     "start_time": "2023-11-10T09:34:54.728161400Z"
    }
   }
  },
  {
   "cell_type": "code",
   "execution_count": 10,
   "outputs": [
    {
     "data": {
      "text/plain": "True"
     },
     "execution_count": 10,
     "metadata": {},
     "output_type": "execute_result"
    }
   ],
   "source": [
    "R1=np.array([[0.5,0.4],[0.6,0.5]])\n",
    "check(R1)"
   ],
   "metadata": {
    "collapsed": false,
    "ExecuteTime": {
     "end_time": "2023-11-10T09:34:55.364007800Z",
     "start_time": "2023-11-10T09:34:55.355033200Z"
    }
   }
  },
  {
   "cell_type": "code",
   "execution_count": 11,
   "outputs": [
    {
     "data": {
      "text/plain": "True"
     },
     "execution_count": 11,
     "metadata": {},
     "output_type": "execute_result"
    }
   ],
   "source": [
    "R21 = np.array([[0.5, 0.3, 0.2, 0.5, 0.2, 0.3, 0.4], [0.7, 0.5, 0.4, 0.7, 0.4, 0.5, 0.6], [0.8, 0.6, 0.5, 0.8, 0.5, 0.6, 0.7],\n",
    "    [0.5, 0.3, 0.2, 0.5, 0.2, 0.3, 0.4], [0.8, 0.6, 0.5, 0.8, 0.5, 0.6, 0.7], [0.7, 0.5, 0.4, 0.7, 0.4, 0.5, 0.6],\n",
    "    [0.6, 0.4, 0.3, 0.6, 0.3, 0.4, 0.5]])\n",
    "check(R21)"
   ],
   "metadata": {
    "collapsed": false,
    "ExecuteTime": {
     "end_time": "2023-11-10T09:55:46.462879400Z",
     "start_time": "2023-11-10T09:55:46.455898100Z"
    }
   }
  },
  {
   "cell_type": "code",
   "execution_count": 13,
   "outputs": [
    {
     "data": {
      "text/plain": "array([[0.5, 0.7, 0.8, 0.5, 0.8, 0.7, 0.6],\n       [0.3, 0.5, 0.6, 0.3, 0.6, 0.5, 0.4],\n       [0.2, 0.4, 0.5, 0.2, 0.5, 0.4, 0.3],\n       [0.5, 0.7, 0.8, 0.5, 0.8, 0.7, 0.6],\n       [0.2, 0.4, 0.5, 0.2, 0.5, 0.4, 0.3],\n       [0.3, 0.5, 0.6, 0.3, 0.6, 0.5, 0.4],\n       [0.4, 0.6, 0.7, 0.4, 0.7, 0.6, 0.5]])"
     },
     "execution_count": 13,
     "metadata": {},
     "output_type": "execute_result"
    }
   ],
   "source": [
    "R21=np.transpose(R21)\n",
    "R21"
   ],
   "metadata": {
    "collapsed": false,
    "ExecuteTime": {
     "end_time": "2023-11-10T09:59:16.509559900Z",
     "start_time": "2023-11-10T09:59:16.398853400Z"
    }
   }
  },
  {
   "cell_type": "code",
   "execution_count": 14,
   "outputs": [
    {
     "name": "stdout",
     "output_type": "stream",
     "text": [
      "[[0.5  0.6  0.65 0.5  0.65 0.6  0.55]\n",
      " [0.4  0.5  0.55 0.4  0.55 0.5  0.45]\n",
      " [0.35 0.45 0.5  0.35 0.5  0.45 0.4 ]\n",
      " [0.5  0.6  0.65 0.5  0.65 0.6  0.55]\n",
      " [0.35 0.45 0.5  0.35 0.5  0.45 0.4 ]\n",
      " [0.4  0.5  0.55 0.4  0.55 0.5  0.45]\n",
      " [0.45 0.55 0.6  0.45 0.6  0.55 0.5 ]]\n"
     ]
    }
   ],
   "source": [
    "print(transform(R21))"
   ],
   "metadata": {
    "collapsed": false,
    "ExecuteTime": {
     "end_time": "2023-11-10T10:01:14.469515Z",
     "start_time": "2023-11-10T10:01:14.455552700Z"
    }
   }
  },
  {
   "cell_type": "code",
   "execution_count": 15,
   "outputs": [
    {
     "name": "stdout",
     "output_type": "stream",
     "text": [
      "[0.4 0.6]\n"
     ]
    }
   ],
   "source": [
    "def get_weight(R):\n",
    "    #R的维度\n",
    "    dim_R=R.shape[0]\n",
    "    #将R的每一行求和\n",
    "    sum_R=np.sum(R,axis=1)\n",
    "    w=np.zeros(dim_R)\n",
    "    n=dim_R\n",
    "    alpha=(n-1)/2\n",
    "    for i in range(dim_R):\n",
    "        w[i]=1/n-1/(2*alpha)+1/(n*alpha)*sum_R[i]\n",
    "    return w\n",
    "R1=np.array([[0.5,0.4],[0.6,0.5]])\n",
    "print(get_weight(R1))"
   ],
   "metadata": {
    "collapsed": false,
    "ExecuteTime": {
     "end_time": "2023-11-10T13:09:57.069137700Z",
     "start_time": "2023-11-10T13:09:57.048167400Z"
    }
   }
  },
  {
   "cell_type": "code",
   "execution_count": 17,
   "outputs": [
    {
     "name": "stdout",
     "output_type": "stream",
     "text": [
      "[[0.5  0.6  0.65 0.5  0.65 0.6  0.55]\n",
      " [0.4  0.5  0.55 0.4  0.55 0.5  0.45]\n",
      " [0.35 0.45 0.5  0.35 0.5  0.45 0.4 ]\n",
      " [0.5  0.6  0.65 0.5  0.65 0.6  0.55]\n",
      " [0.35 0.45 0.5  0.35 0.5  0.45 0.4 ]\n",
      " [0.4  0.5  0.55 0.4  0.55 0.5  0.45]\n",
      " [0.45 0.55 0.6  0.45 0.6  0.55 0.5 ]]\n",
      "[0.15595238 0.13928571 0.13095238 0.15595238 0.13095238 0.13928571\n",
      " 0.14761905]\n"
     ]
    }
   ],
   "source": [
    "R21 = np.array([[0.5, 0.3, 0.2, 0.5, 0.2, 0.3, 0.4], [0.7, 0.5, 0.4, 0.7, 0.4, 0.5, 0.6], [0.8, 0.6, 0.5, 0.8, 0.5, 0.6, 0.7],\n",
    "    [0.5, 0.3, 0.2, 0.5, 0.2, 0.3, 0.4], [0.8, 0.6, 0.5, 0.8, 0.5, 0.6, 0.7], [0.7, 0.5, 0.4, 0.7, 0.4, 0.5, 0.6],\n",
    "    [0.6, 0.4, 0.3, 0.6, 0.3, 0.4, 0.5]])\n",
    "R21=np.transpose(R21)\n",
    "print(transform(R21))\n",
    "R21=get_weight(transform(R21))\n",
    "print(R21)"
   ],
   "metadata": {
    "collapsed": false,
    "ExecuteTime": {
     "end_time": "2023-11-10T13:12:03.350664700Z",
     "start_time": "2023-11-10T13:12:03.245719600Z"
    }
   }
  },
  {
   "cell_type": "code",
   "execution_count": null,
   "outputs": [],
   "source": [],
   "metadata": {
    "collapsed": false
   }
  }
 ],
 "metadata": {
  "kernelspec": {
   "display_name": "Python 3",
   "language": "python",
   "name": "python3"
  },
  "language_info": {
   "codemirror_mode": {
    "name": "ipython",
    "version": 2
   },
   "file_extension": ".py",
   "mimetype": "text/x-python",
   "name": "python",
   "nbconvert_exporter": "python",
   "pygments_lexer": "ipython2",
   "version": "2.7.6"
  }
 },
 "nbformat": 4,
 "nbformat_minor": 0
}
