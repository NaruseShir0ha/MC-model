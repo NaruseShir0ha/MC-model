{
 "cells": [
  {
   "cell_type": "code",
   "execution_count": 1,
   "metadata": {
    "collapsed": true,
    "ExecuteTime": {
     "end_time": "2023-12-09T10:01:32.942804Z",
     "start_time": "2023-12-09T10:01:32.221698300Z"
    }
   },
   "outputs": [],
   "source": [
    "import numpy as np\n",
    "import pandas as pd\n",
    "import matplotlib.pyplot as plt"
   ]
  },
  {
   "cell_type": "code",
   "execution_count": 2,
   "outputs": [],
   "source": [
    "#构建dataframe表头\n",
    "columns = ['source','destination','size','is_circle','circle','p','interval','delay','priority']\n",
    "#构建dataframe\n",
    "df = pd.DataFrame(columns=columns)\n",
    "#数据流1随机数生成器\n",
    "def datasets_generation(frame,num):\n",
    "    for i in range(num):\n",
    "        #随机生成源节点\n",
    "        source = frame[0]\n",
    "        #随机生成目的节点\n",
    "        destination = frame[1]\n",
    "        #随机生成数据流大小\n",
    "        size = frame[2][0]+np.random.randint(-frame[2][1],frame[2][1])\n",
    "        #数据流是否为周期流\n",
    "        is_circle = frame[3]\n",
    "        #随机生成周期\n",
    "        if is_circle == 1:\n",
    "            circle = frame[4][0]+np.random.randint(-frame[4][1],frame[4][1])\n",
    "        else:\n",
    "            circle = 0\n",
    "        #随机生成概率\n",
    "        p = frame[5]\n",
    "        #随机生成间隔\n",
    "        interval = frame[6]\n",
    "        #随机生成延迟\n",
    "        delay = frame[7][0]+np.random.randint(-frame[7][1],frame[7][1])\n",
    "        #随机生成优先级\n",
    "        priority = frame[8]\n",
    "        #将数据流加入dataframe下一行后\n",
    "        num_rows = df.shape[0]\n",
    "        df.loc[num_rows] = [source,destination,size,is_circle,circle,p,interval,delay,priority]\n",
    "frame1=[0,3,[50,10],1,[5,2],1,0,[5,3],7]\n",
    "frame2=[0,3,[50,10],1,[10,3],1,0,[20,5],6]\n",
    "frame3=[0,3,[50,10],1,[100,30],1,0,[500,100],5]\n",
    "frame4=[0,3,[50,10],1,[100,30],1,0,[500,100],5]\n",
    "frame5=[0,3,[50,10],1,[100,30],1,0,[200,50],5]\n",
    "frame6=[0,3,[500,100],0,0,0.0001,100,[2,1],7]\n",
    "frame7=[1,4,[50,10],1,[5,2],1,0,[5,3],7]\n",
    "frame8=[1,4,[50,10],1,[10,3],1,0,[20,5],6]\n",
    "frame9=[1,4,[50,10],1,[100,30],1,0,[500,100],5]\n",
    "frame10=[1,4,[50,10],1,[100,30],1,0,[500,100],5]\n",
    "frame11=[1,4,[50,10],1,[100,30],1,0,[200,50],5]\n",
    "frame12=[1,4,[500,100],0,0,0.0001,100,[2,1],7]\n",
    "frame13=[2,5,[50,10],1,[5,2],1,0,[5,3],7]\n",
    "frame14=[2,5,[50,10],1,[10,3],1,0,[20,5],6]\n",
    "frame15=[2,5,[50,10],1,[100,30],1,0,[500,100],5]\n",
    "frame16=[2,5,[50,10],1,[100,30],1,0,[500,100],5]\n",
    "frame17=[2,5,[50,10],1,[100,30],1,0,[200,50],5]\n",
    "frame18=[2,5,[500,100],0,0,0.0001,100,[2,1],7]\n",
    "frame19=[3,0,[50,10],1,[10,3],1,0,[5,3],7]\n",
    "frame20=[3,0,[50,10],1,[20,5],1,0,[5,3],6]\n",
    "frame21=[3,0,[50,10],1,[20,5],1,0,[10,3],6]\n",
    "frame22=[3,6,[1200,300],1,[2000,400],1,0,[1000,300],3]\n",
    "frame23=[4,1,[50,10],1,[10,3],1,0,[5,3],7]\n",
    "frame24=[4,1,[50,10],1,[20,5],1,0,[5,3],6]\n",
    "frame25=[4,1,[50,10],1,[20,5],1,0,[10,3],6]\n",
    "frame26=[4,6,[1200,300],1,[2000,400],1,0,[1000,300],3]\n",
    "frame27=[5,2,[50,10],1,[10,3],1,0,[5,3],7]\n",
    "frame28=[5,2,[50,10],1,[20,5],1,0,[5,3],6]\n",
    "frame29=[5,2,[50,10],1,[20,5],1,0,[10,3],6]\n",
    "frame30=[5,2,[1200,300],1,[2000,400],1,0,[1000,300],3]\n",
    "frame31=[6,3,[1000,300],1,[10000,2000],1,0,[1000,300],2]\n",
    "frame32=[6,4,[1000,300],1,[10000,2000],1,0,[1000,300],2]\n",
    "frame33=[6,5,[1000,300],1,[10000,2000],1,0,[1000,300],2]\n",
    "frame34=[7,6,[1500,10],0,0,1,20000,[1000,300],4]\n",
    "frame_pool=[frame1,frame2,frame3,frame4,frame5,frame6,frame7,frame8,frame9,frame10,frame11,frame12,frame13,frame14,frame15,frame16,frame17,frame18,frame19,frame20,frame21,frame22,frame23,frame24,frame25,frame26,frame27,frame28,frame29,frame30,frame31,frame32,frame33,frame34]"
   ],
   "metadata": {
    "collapsed": false,
    "ExecuteTime": {
     "end_time": "2023-12-09T10:01:34.197742900Z",
     "start_time": "2023-12-09T10:01:34.161839100Z"
    }
   }
  },
  {
   "cell_type": "code",
   "execution_count": 3,
   "outputs": [
    {
     "data": {
      "text/plain": "       source  destination    size  is_circle  circle    p  interval   delay  \\\n0         0.0          3.0    43.0        1.0     6.0  1.0       0.0     7.0   \n1         0.0          3.0    48.0        1.0     6.0  1.0       0.0     5.0   \n2         0.0          3.0    42.0        1.0     6.0  1.0       0.0     5.0   \n3         0.0          3.0    47.0        1.0     6.0  1.0       0.0     6.0   \n4         0.0          3.0    43.0        1.0     6.0  1.0       0.0     4.0   \n...       ...          ...     ...        ...     ...  ...       ...     ...   \n33995     7.0          6.0  1503.0        0.0     0.0  1.0   20000.0   976.0   \n33996     7.0          6.0  1494.0        0.0     0.0  1.0   20000.0   847.0   \n33997     7.0          6.0  1490.0        0.0     0.0  1.0   20000.0   705.0   \n33998     7.0          6.0  1494.0        0.0     0.0  1.0   20000.0  1032.0   \n33999     7.0          6.0  1490.0        0.0     0.0  1.0   20000.0  1022.0   \n\n       priority  \n0           7.0  \n1           7.0  \n2           7.0  \n3           7.0  \n4           7.0  \n...         ...  \n33995       4.0  \n33996       4.0  \n33997       4.0  \n33998       4.0  \n33999       4.0  \n\n[34000 rows x 9 columns]",
      "text/html": "<div>\n<style scoped>\n    .dataframe tbody tr th:only-of-type {\n        vertical-align: middle;\n    }\n\n    .dataframe tbody tr th {\n        vertical-align: top;\n    }\n\n    .dataframe thead th {\n        text-align: right;\n    }\n</style>\n<table border=\"1\" class=\"dataframe\">\n  <thead>\n    <tr style=\"text-align: right;\">\n      <th></th>\n      <th>source</th>\n      <th>destination</th>\n      <th>size</th>\n      <th>is_circle</th>\n      <th>circle</th>\n      <th>p</th>\n      <th>interval</th>\n      <th>delay</th>\n      <th>priority</th>\n    </tr>\n  </thead>\n  <tbody>\n    <tr>\n      <th>0</th>\n      <td>0.0</td>\n      <td>3.0</td>\n      <td>43.0</td>\n      <td>1.0</td>\n      <td>6.0</td>\n      <td>1.0</td>\n      <td>0.0</td>\n      <td>7.0</td>\n      <td>7.0</td>\n    </tr>\n    <tr>\n      <th>1</th>\n      <td>0.0</td>\n      <td>3.0</td>\n      <td>48.0</td>\n      <td>1.0</td>\n      <td>6.0</td>\n      <td>1.0</td>\n      <td>0.0</td>\n      <td>5.0</td>\n      <td>7.0</td>\n    </tr>\n    <tr>\n      <th>2</th>\n      <td>0.0</td>\n      <td>3.0</td>\n      <td>42.0</td>\n      <td>1.0</td>\n      <td>6.0</td>\n      <td>1.0</td>\n      <td>0.0</td>\n      <td>5.0</td>\n      <td>7.0</td>\n    </tr>\n    <tr>\n      <th>3</th>\n      <td>0.0</td>\n      <td>3.0</td>\n      <td>47.0</td>\n      <td>1.0</td>\n      <td>6.0</td>\n      <td>1.0</td>\n      <td>0.0</td>\n      <td>6.0</td>\n      <td>7.0</td>\n    </tr>\n    <tr>\n      <th>4</th>\n      <td>0.0</td>\n      <td>3.0</td>\n      <td>43.0</td>\n      <td>1.0</td>\n      <td>6.0</td>\n      <td>1.0</td>\n      <td>0.0</td>\n      <td>4.0</td>\n      <td>7.0</td>\n    </tr>\n    <tr>\n      <th>...</th>\n      <td>...</td>\n      <td>...</td>\n      <td>...</td>\n      <td>...</td>\n      <td>...</td>\n      <td>...</td>\n      <td>...</td>\n      <td>...</td>\n      <td>...</td>\n    </tr>\n    <tr>\n      <th>33995</th>\n      <td>7.0</td>\n      <td>6.0</td>\n      <td>1503.0</td>\n      <td>0.0</td>\n      <td>0.0</td>\n      <td>1.0</td>\n      <td>20000.0</td>\n      <td>976.0</td>\n      <td>4.0</td>\n    </tr>\n    <tr>\n      <th>33996</th>\n      <td>7.0</td>\n      <td>6.0</td>\n      <td>1494.0</td>\n      <td>0.0</td>\n      <td>0.0</td>\n      <td>1.0</td>\n      <td>20000.0</td>\n      <td>847.0</td>\n      <td>4.0</td>\n    </tr>\n    <tr>\n      <th>33997</th>\n      <td>7.0</td>\n      <td>6.0</td>\n      <td>1490.0</td>\n      <td>0.0</td>\n      <td>0.0</td>\n      <td>1.0</td>\n      <td>20000.0</td>\n      <td>705.0</td>\n      <td>4.0</td>\n    </tr>\n    <tr>\n      <th>33998</th>\n      <td>7.0</td>\n      <td>6.0</td>\n      <td>1494.0</td>\n      <td>0.0</td>\n      <td>0.0</td>\n      <td>1.0</td>\n      <td>20000.0</td>\n      <td>1032.0</td>\n      <td>4.0</td>\n    </tr>\n    <tr>\n      <th>33999</th>\n      <td>7.0</td>\n      <td>6.0</td>\n      <td>1490.0</td>\n      <td>0.0</td>\n      <td>0.0</td>\n      <td>1.0</td>\n      <td>20000.0</td>\n      <td>1022.0</td>\n      <td>4.0</td>\n    </tr>\n  </tbody>\n</table>\n<p>34000 rows × 9 columns</p>\n</div>"
     },
     "execution_count": 3,
     "metadata": {},
     "output_type": "execute_result"
    }
   ],
   "source": [
    "#生成数据流\n",
    "for frame in frame_pool:\n",
    "    datasets_generation(frame,1000)\n",
    "df"
   ],
   "metadata": {
    "collapsed": false,
    "ExecuteTime": {
     "end_time": "2023-12-09T10:02:33.584011700Z",
     "start_time": "2023-12-09T10:01:35.632005800Z"
    }
   }
  },
  {
   "cell_type": "code",
   "execution_count": 4,
   "outputs": [],
   "source": [
    "#存入excel中\n",
    "df.to_excel('excel_folder/datasets.xlsx')"
   ],
   "metadata": {
    "collapsed": false,
    "ExecuteTime": {
     "end_time": "2023-12-09T10:04:13.117053700Z",
     "start_time": "2023-12-09T10:04:04.610691800Z"
    }
   }
  },
  {
   "cell_type": "code",
   "execution_count": 11,
   "outputs": [],
   "source": [
    "#将df分为训练集和测试集\n",
    "from sklearn.model_selection import train_test_split\n",
    "df_x = df.drop(['priority'],axis=1)\n",
    "df_y = df['priority']\n",
    "x_train,x_test,y_train,y_test = train_test_split(df_x,df_y,test_size=0.2,random_state=0)"
   ],
   "metadata": {
    "collapsed": false,
    "ExecuteTime": {
     "end_time": "2023-12-09T10:12:18.492761100Z",
     "start_time": "2023-12-09T10:12:18.476805200Z"
    }
   }
  },
  {
   "cell_type": "code",
   "execution_count": 12,
   "outputs": [
    {
     "name": "stdout",
     "output_type": "stream",
     "text": [
      "Accuracy: 1.0\n"
     ]
    }
   ],
   "source": [
    "#使用决策树进行训练\n",
    "from sklearn.tree import DecisionTreeClassifier\n",
    "from sklearn import metrics\n",
    "clf = DecisionTreeClassifier()\n",
    "clf = clf.fit(x_train,y_train)\n",
    "y_pred = clf.predict(x_test)\n",
    "print(\"Accuracy:\",metrics.accuracy_score(y_test, y_pred))"
   ],
   "metadata": {
    "collapsed": false,
    "ExecuteTime": {
     "end_time": "2023-12-09T10:12:19.230787700Z",
     "start_time": "2023-12-09T10:12:19.172944700Z"
    }
   }
  },
  {
   "cell_type": "code",
   "execution_count": 13,
   "outputs": [
    {
     "name": "stdout",
     "output_type": "stream",
     "text": [
      "Accuracy: 1.0\n"
     ]
    }
   ],
   "source": [
    "#使用随机森林进行训练\n",
    "from sklearn.ensemble import RandomForestClassifier\n",
    "clf = RandomForestClassifier(n_estimators=100)\n",
    "clf = clf.fit(x_train,y_train)\n",
    "y_pred = clf.predict(x_test)\n",
    "print(\"Accuracy:\",metrics.accuracy_score(y_test, y_pred))"
   ],
   "metadata": {
    "collapsed": false,
    "ExecuteTime": {
     "end_time": "2023-12-09T10:12:20.840496400Z",
     "start_time": "2023-12-09T10:12:19.826210Z"
    }
   }
  },
  {
   "cell_type": "code",
   "execution_count": 14,
   "outputs": [
    {
     "name": "stdout",
     "output_type": "stream",
     "text": [
      "Accuracy: 0.9994117647058823\n"
     ]
    },
    {
     "name": "stderr",
     "output_type": "stream",
     "text": [
      "C:\\ProgramData\\anaconda3\\lib\\site-packages\\sklearn\\linear_model\\_logistic.py:458: ConvergenceWarning: lbfgs failed to converge (status=1):\n",
      "STOP: TOTAL NO. of ITERATIONS REACHED LIMIT.\n",
      "\n",
      "Increase the number of iterations (max_iter) or scale the data as shown in:\n",
      "    https://scikit-learn.org/stable/modules/preprocessing.html\n",
      "Please also refer to the documentation for alternative solver options:\n",
      "    https://scikit-learn.org/stable/modules/linear_model.html#logistic-regression\n",
      "  n_iter_i = _check_optimize_result(\n"
     ]
    }
   ],
   "source": [
    "#用softmax进行训练\n",
    "from sklearn.linear_model import LogisticRegression\n",
    "clf = LogisticRegression(random_state=0, solver='lbfgs',multi_class='multinomial')\n",
    "clf = clf.fit(x_train,y_train)\n",
    "y_pred = clf.predict(x_test)\n",
    "print(\"Accuracy:\",metrics.accuracy_score(y_test, y_pred))"
   ],
   "metadata": {
    "collapsed": false,
    "ExecuteTime": {
     "end_time": "2023-12-09T12:16:48.206853200Z",
     "start_time": "2023-12-09T12:16:46.371969400Z"
    }
   }
  },
  {
   "cell_type": "markdown",
   "source": [],
   "metadata": {
    "collapsed": false
   }
  },
  {
   "cell_type": "code",
   "execution_count": null,
   "outputs": [],
   "source": [],
   "metadata": {
    "collapsed": false
   }
  }
 ],
 "metadata": {
  "kernelspec": {
   "display_name": "Python 3",
   "language": "python",
   "name": "python3"
  },
  "language_info": {
   "codemirror_mode": {
    "name": "ipython",
    "version": 2
   },
   "file_extension": ".py",
   "mimetype": "text/x-python",
   "name": "python",
   "nbconvert_exporter": "python",
   "pygments_lexer": "ipython2",
   "version": "2.7.6"
  }
 },
 "nbformat": 4,
 "nbformat_minor": 0
}
